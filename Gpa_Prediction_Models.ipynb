{
 "cells": [
  {
   "cell_type": "markdown",
   "id": "113aea5a",
   "metadata": {},
   "source": [
    "# GPA PREDICTION MODELS BY AHMER WAQAR \n"
   ]
  },
  {
   "cell_type": "code",
   "execution_count": 49,
   "id": "ef599360",
   "metadata": {},
   "outputs": [],
   "source": [
    "#Imported all the libraries which are needed\n",
    "import pandas as pd\n",
    "import numpy as np\n",
    "from sklearn.model_selection import train_test_split\n",
    "from sklearn.linear_model import LinearRegression\n",
    "from sklearn.neighbors import KNeighborsRegressor\n",
    "from sklearn.ensemble import RandomForestRegressor\n",
    "from sklearn.svm import SVR\n",
    "from sklearn.tree import DecisionTreeRegressor\n",
    "from sklearn.metrics import mean_squared_error\n",
    "from sklearn.metrics import mean_absolute_error\n",
    "from sklearn import metrics\n",
    "import matplotlib.pyplot as plt\n",
    "import time\n",
    "import math"
   ]
  },
  {
   "cell_type": "code",
   "execution_count": 50,
   "id": "8fdf35bd",
   "metadata": {},
   "outputs": [],
   "source": [
    "#Dataset\n",
    "Data = pd.read_csv(\"The_Grades_Dataset.csv\")"
   ]
  },
  {
   "cell_type": "code",
   "execution_count": 51,
   "id": "0a8d627d",
   "metadata": {
    "scrolled": true
   },
   "outputs": [
    {
     "data": {
      "text/plain": [
       "Seat No.      0\n",
       "PH-121        0\n",
       "HS-101        0\n",
       "CY-105        1\n",
       "HS-105/12     1\n",
       "MT-111        2\n",
       "CS-105        0\n",
       "CS-106        2\n",
       "EL-102        2\n",
       "EE-119        2\n",
       "ME-107        2\n",
       "CS-107        2\n",
       "HS-205/20     5\n",
       "MT-222        5\n",
       "EE-222        7\n",
       "MT-224        7\n",
       "CS-210        7\n",
       "CS-211        5\n",
       "CS-203        5\n",
       "CS-214        6\n",
       "EE-217        6\n",
       "CS-212        6\n",
       "CS-215        6\n",
       "MT-331        9\n",
       "EF-303       10\n",
       "HS-304       10\n",
       "CS-301       10\n",
       "CS-302       10\n",
       "TC-383       10\n",
       "MT-442       10\n",
       "EL-332        9\n",
       "CS-318        9\n",
       "CS-306        9\n",
       "CS-312       10\n",
       "CS-317       12\n",
       "CS-403       12\n",
       "CS-421       12\n",
       "CS-406       85\n",
       "CS-414       13\n",
       "CS-419       13\n",
       "CS-423       14\n",
       "CS-412       79\n",
       "CGPA          0\n",
       "dtype: int64"
      ]
     },
     "execution_count": 51,
     "metadata": {},
     "output_type": "execute_result"
    }
   ],
   "source": [
    "#Checking for the null values\n",
    "Data.isnull().sum()"
   ]
  },
  {
   "cell_type": "code",
   "execution_count": 52,
   "id": "ebfd5727",
   "metadata": {},
   "outputs": [
    {
     "data": {
      "text/html": [
       "<div>\n",
       "<style scoped>\n",
       "    .dataframe tbody tr th:only-of-type {\n",
       "        vertical-align: middle;\n",
       "    }\n",
       "\n",
       "    .dataframe tbody tr th {\n",
       "        vertical-align: top;\n",
       "    }\n",
       "\n",
       "    .dataframe thead th {\n",
       "        text-align: right;\n",
       "    }\n",
       "</style>\n",
       "<table border=\"1\" class=\"dataframe\">\n",
       "  <thead>\n",
       "    <tr style=\"text-align: right;\">\n",
       "      <th></th>\n",
       "      <th>Seat No.</th>\n",
       "      <th>PH-121</th>\n",
       "      <th>HS-101</th>\n",
       "      <th>CY-105</th>\n",
       "      <th>HS-105/12</th>\n",
       "      <th>MT-111</th>\n",
       "      <th>CS-105</th>\n",
       "      <th>CS-106</th>\n",
       "      <th>EL-102</th>\n",
       "      <th>EE-119</th>\n",
       "      <th>...</th>\n",
       "      <th>CS-312</th>\n",
       "      <th>CS-317</th>\n",
       "      <th>CS-403</th>\n",
       "      <th>CS-421</th>\n",
       "      <th>CS-406</th>\n",
       "      <th>CS-414</th>\n",
       "      <th>CS-419</th>\n",
       "      <th>CS-423</th>\n",
       "      <th>CS-412</th>\n",
       "      <th>CGPA</th>\n",
       "    </tr>\n",
       "  </thead>\n",
       "  <tbody>\n",
       "    <tr>\n",
       "      <th>0</th>\n",
       "      <td>CS-97001</td>\n",
       "      <td>B-</td>\n",
       "      <td>D+</td>\n",
       "      <td>C-</td>\n",
       "      <td>C</td>\n",
       "      <td>C-</td>\n",
       "      <td>D+</td>\n",
       "      <td>D</td>\n",
       "      <td>C-</td>\n",
       "      <td>B-</td>\n",
       "      <td>...</td>\n",
       "      <td>C-</td>\n",
       "      <td>C-</td>\n",
       "      <td>C-</td>\n",
       "      <td>C-</td>\n",
       "      <td>A-</td>\n",
       "      <td>A</td>\n",
       "      <td>C-</td>\n",
       "      <td>B</td>\n",
       "      <td>A-</td>\n",
       "      <td>2.205</td>\n",
       "    </tr>\n",
       "    <tr>\n",
       "      <th>1</th>\n",
       "      <td>CS-97002</td>\n",
       "      <td>A</td>\n",
       "      <td>D</td>\n",
       "      <td>D+</td>\n",
       "      <td>D</td>\n",
       "      <td>B-</td>\n",
       "      <td>C</td>\n",
       "      <td>D</td>\n",
       "      <td>A</td>\n",
       "      <td>D+</td>\n",
       "      <td>...</td>\n",
       "      <td>D+</td>\n",
       "      <td>D</td>\n",
       "      <td>C</td>\n",
       "      <td>D</td>\n",
       "      <td>A-</td>\n",
       "      <td>B-</td>\n",
       "      <td>C</td>\n",
       "      <td>C</td>\n",
       "      <td>B</td>\n",
       "      <td>2.008</td>\n",
       "    </tr>\n",
       "    <tr>\n",
       "      <th>2</th>\n",
       "      <td>CS-97003</td>\n",
       "      <td>A</td>\n",
       "      <td>B</td>\n",
       "      <td>A</td>\n",
       "      <td>B-</td>\n",
       "      <td>B+</td>\n",
       "      <td>A</td>\n",
       "      <td>B-</td>\n",
       "      <td>B+</td>\n",
       "      <td>A-</td>\n",
       "      <td>...</td>\n",
       "      <td>B</td>\n",
       "      <td>B</td>\n",
       "      <td>A</td>\n",
       "      <td>C</td>\n",
       "      <td>A</td>\n",
       "      <td>A</td>\n",
       "      <td>A</td>\n",
       "      <td>A-</td>\n",
       "      <td>A</td>\n",
       "      <td>3.608</td>\n",
       "    </tr>\n",
       "    <tr>\n",
       "      <th>3</th>\n",
       "      <td>CS-97004</td>\n",
       "      <td>D</td>\n",
       "      <td>C+</td>\n",
       "      <td>D+</td>\n",
       "      <td>D</td>\n",
       "      <td>D</td>\n",
       "      <td>A-</td>\n",
       "      <td>D+</td>\n",
       "      <td>C-</td>\n",
       "      <td>D</td>\n",
       "      <td>...</td>\n",
       "      <td>D+</td>\n",
       "      <td>C</td>\n",
       "      <td>D+</td>\n",
       "      <td>C-</td>\n",
       "      <td>B-</td>\n",
       "      <td>B</td>\n",
       "      <td>C+</td>\n",
       "      <td>C+</td>\n",
       "      <td>C+</td>\n",
       "      <td>1.906</td>\n",
       "    </tr>\n",
       "    <tr>\n",
       "      <th>4</th>\n",
       "      <td>CS-97005</td>\n",
       "      <td>A-</td>\n",
       "      <td>A-</td>\n",
       "      <td>A-</td>\n",
       "      <td>B+</td>\n",
       "      <td>A</td>\n",
       "      <td>A</td>\n",
       "      <td>A-</td>\n",
       "      <td>B+</td>\n",
       "      <td>A</td>\n",
       "      <td>...</td>\n",
       "      <td>B-</td>\n",
       "      <td>B+</td>\n",
       "      <td>B+</td>\n",
       "      <td>B-</td>\n",
       "      <td>A-</td>\n",
       "      <td>A</td>\n",
       "      <td>A-</td>\n",
       "      <td>A-</td>\n",
       "      <td>A</td>\n",
       "      <td>3.448</td>\n",
       "    </tr>\n",
       "  </tbody>\n",
       "</table>\n",
       "<p>5 rows × 43 columns</p>\n",
       "</div>"
      ],
      "text/plain": [
       "   Seat No. PH-121 HS-101 CY-105 HS-105/12 MT-111 CS-105 CS-106 EL-102 EE-119  \\\n",
       "0  CS-97001     B-     D+     C-         C     C-     D+      D     C-     B-   \n",
       "1  CS-97002      A      D     D+         D     B-      C      D      A     D+   \n",
       "2  CS-97003      A      B      A        B-     B+      A     B-     B+     A-   \n",
       "3  CS-97004      D     C+     D+         D      D     A-     D+     C-      D   \n",
       "4  CS-97005     A-     A-     A-        B+      A      A     A-     B+      A   \n",
       "\n",
       "   ... CS-312 CS-317 CS-403 CS-421 CS-406 CS-414 CS-419 CS-423 CS-412   CGPA  \n",
       "0  ...     C-     C-     C-     C-     A-      A     C-      B     A-  2.205  \n",
       "1  ...     D+      D      C      D     A-     B-      C      C      B  2.008  \n",
       "2  ...      B      B      A      C      A      A      A     A-      A  3.608  \n",
       "3  ...     D+      C     D+     C-     B-      B     C+     C+     C+  1.906  \n",
       "4  ...     B-     B+     B+     B-     A-      A     A-     A-      A  3.448  \n",
       "\n",
       "[5 rows x 43 columns]"
      ]
     },
     "execution_count": 52,
     "metadata": {},
     "output_type": "execute_result"
    }
   ],
   "source": [
    "#Filling the null values with the most repeated values of that particular column\n",
    "Data.fillna(Data.mode().iloc[0],inplace = True)\n",
    "Data.head()"
   ]
  },
  {
   "cell_type": "code",
   "execution_count": 53,
   "id": "7b297521",
   "metadata": {},
   "outputs": [
    {
     "data": {
      "text/plain": [
       "Seat No.     0\n",
       "PH-121       0\n",
       "HS-101       0\n",
       "CY-105       0\n",
       "HS-105/12    0\n",
       "MT-111       0\n",
       "CS-105       0\n",
       "CS-106       0\n",
       "EL-102       0\n",
       "EE-119       0\n",
       "ME-107       0\n",
       "CS-107       0\n",
       "HS-205/20    0\n",
       "MT-222       0\n",
       "EE-222       0\n",
       "MT-224       0\n",
       "CS-210       0\n",
       "CS-211       0\n",
       "CS-203       0\n",
       "CS-214       0\n",
       "EE-217       0\n",
       "CS-212       0\n",
       "CS-215       0\n",
       "MT-331       0\n",
       "EF-303       0\n",
       "HS-304       0\n",
       "CS-301       0\n",
       "CS-302       0\n",
       "TC-383       0\n",
       "MT-442       0\n",
       "EL-332       0\n",
       "CS-318       0\n",
       "CS-306       0\n",
       "CS-312       0\n",
       "CS-317       0\n",
       "CS-403       0\n",
       "CS-421       0\n",
       "CS-406       0\n",
       "CS-414       0\n",
       "CS-419       0\n",
       "CS-423       0\n",
       "CS-412       0\n",
       "CGPA         0\n",
       "dtype: int64"
      ]
     },
     "execution_count": 53,
     "metadata": {},
     "output_type": "execute_result"
    }
   ],
   "source": [
    "#Again checking the null values, if there are any?\n",
    "Data.isnull().sum()"
   ]
  },
  {
   "cell_type": "code",
   "execution_count": 54,
   "id": "dfc2c3c9",
   "metadata": {},
   "outputs": [],
   "source": [
    "#saving preprocessed data set\n",
    "Data.to_csv('PreProcessed_Dataset.csv', index=False)"
   ]
  },
  {
   "cell_type": "code",
   "execution_count": 55,
   "id": "bb3f64f4",
   "metadata": {},
   "outputs": [],
   "source": [
    "# copying our dataset to Data_encoded to avoid any type of misshapen to our original dataset\n",
    "Data_encoded = Data.copy()\n",
    "\n",
    "# assigning grades numbers by using ordinal encoding technique\n",
    "order_label = {\"A+\":15,\"A\":14,\"A-\":13,\"B+\":12,\"B\":11,\"B-\":10,\"C+\":8,\"C\":8,\"C-\":7,\"D+\":6,\"D\":5,\"F\":4,\"I\":3,\"W\":2,\"WU\":1}\n",
    "\n",
    "#mapping the order_label values to each column value in our data dataset\n",
    "for col in Data_encoded.columns:\n",
    "     Data_encoded[col] =  Data_encoded[col].map(order_label)\n",
    "# Data_encoded.head(10)\n",
    "\n",
    "#Extracting the independent features \n",
    "Data_encoded= Data_encoded.drop(\"MT-442\" , axis=1).iloc[:,1:-8]\n",
    "\n",
    "\n",
    "#Saving the data set to see the changes after encoding\n",
    "Data_encoded.to_csv('Encoded.csv', index=False)"
   ]
  },
  {
   "cell_type": "markdown",
   "id": "086c84ba",
   "metadata": {},
   "source": [
    "**USING LINEAR REGRESSION FOR MODEL 1**"
   ]
  },
  {
   "cell_type": "code",
   "execution_count": 56,
   "id": "c5d45fe5",
   "metadata": {},
   "outputs": [
    {
     "name": "stdout",
     "output_type": "stream",
     "text": [
      "BY LINEAR REGRESSION 0.818377077789539\n"
     ]
    }
   ],
   "source": [
    "#Passing Features to x1 and assigning our target to y1\n",
    "x1 = Data_encoded.iloc[:, 0:11]\n",
    "\n",
    "#here I have pick the GPA Column from our original dataset\n",
    "y1 = Data['CGPA']\n",
    "x1_train, x1_test, y1_train, y1_test = train_test_split(x1, y1, test_size=0.2, random_state=0)\n",
    "Lin_reg = LinearRegression()\n",
    "Y_pred1 = Lin_reg.fit(x1_train, y1_train).predict(x1_test)\n",
    "print(\"BY LINEAR REGRESSION\", Lin_reg.score(x1_test, y1_test))"
   ]
  },
  {
   "cell_type": "code",
   "execution_count": 57,
   "id": "99b67d6a",
   "metadata": {},
   "outputs": [
    {
     "name": "stdout",
     "output_type": "stream",
     "text": [
      "Training set score: 83.48%\n",
      "Test set score: 0.82\n"
     ]
    }
   ],
   "source": [
    "#Print Testing and Training score gain by Linear Regression Model for First year Only\n",
    "print(\"Training set score: {:.2f}%\".format(round(Lin_reg.score(x1_train, y1_train)*100,2)))\n",
    "print(\"Test set score: {:.2f}\".format(Lin_reg.score(x1_test, y1_test)))"
   ]
  },
  {
   "cell_type": "markdown",
   "id": "1dae31b4",
   "metadata": {},
   "source": [
    "**USING KNN FOR MODEL 1**"
   ]
  },
  {
   "cell_type": "code",
   "execution_count": 58,
   "id": "da10b195",
   "metadata": {},
   "outputs": [
    {
     "name": "stdout",
     "output_type": "stream",
     "text": [
      "By KNN for first year courses 0.8406687089429596\n",
      "Training set score: 84.63%\n",
      "Test set score: 0.84\n"
     ]
    }
   ],
   "source": [
    "# here n_neighbours is 10 because below 10 the testing is not accurate and above 10 the testing is more than training\n",
    "Knn_reg = KNeighborsRegressor(n_neighbors=10)\n",
    "Y_pred2 = Knn_reg.fit(x1_train, y1_train).predict(x1_test)\n",
    "print(\"By KNN for first year courses\",Knn_reg.score(x1_test, y1_test))\n",
    "print(\"Training set score: {:.2f}%\".format(round(Knn_reg.score(x1_train, y1_train)*100,2)))\n",
    "print(\"Test set score: {:.2f}\".format(Knn_reg.score(x1_test, y1_test)))"
   ]
  },
  {
   "cell_type": "markdown",
   "id": "ee4112d7",
   "metadata": {},
   "source": [
    "**INTERFACE FOR MODEL 1**"
   ]
  },
  {
   "cell_type": "code",
   "execution_count": 59,
   "id": "638b99d1",
   "metadata": {},
   "outputs": [
    {
     "name": "stdout",
     "output_type": "stream",
     "text": [
      "***ENTER GRADES FOR 1st YEAR***\n",
      "***CHOOSE GRADES FROM : A+, A, A-, B+, B, B-, C+, C, C-, D+, D, F, I, W, WU  \n",
      "Enter grade for PH-121 : A\n",
      "Enter grade for HS-101 : A\n",
      "Enter grade for CY-105 : A\n",
      "Enter grade for HS-105/12 : A\n",
      "Enter grade for MT-111 : A\n",
      "Enter grade for CS-105 : A\n",
      "Enter grade for CS-106 : A\n",
      "Enter grade for EL-102 : A\n",
      "Enter grade for EE-119 : A\n",
      "Enter grade for ME-107 : A\n",
      "Enter grade for CS-107 : A\n",
      "By Linear Regression\n",
      "Final GPA of First Year Students : 3.835\n",
      "By KNN\n",
      "Final GPA of First Year Students : 3.848\n"
     ]
    }
   ],
   "source": [
    "# final dictionary in which our final results will be stored\n",
    "finalDict={}\n",
    "\n",
    "# making a list of subjects for first year courses\n",
    "validGrades=['A+', 'A',' A-','B+', 'B', 'B-', 'C+', 'C', 'C-', 'D+', 'D', 'F', 'I','W', 'WU']\n",
    "\n",
    "# making a list of subjects for first year courses\n",
    "subjects=['PH-121','HS-101','CY-105','HS-105/12','MT-111','CS-105','CS-106','EL-102','EE-119','ME-107','CS-107']\n",
    "\n",
    "# making a dictionary to provide each grade a number, because our model is trained on these ordinal numbers so when the user inputs the data in grades our model will use the number assign to it\n",
    "gradesDict = {\"A+\":15,\"A\":14,\"A-\":13,\"B+\":12,\"B\":11,\"B-\":10,\"C+\":8,\"C\":8,\"C-\":7,\"D+\":6,\"D\":5,\"F\":4,\"I\":3,\"W\":2,\"WU\":1}\n",
    "print(\"***ENTER GRADES FOR 1st YEAR***\")\n",
    "time.sleep(1)\n",
    "print(\"***CHOOSE GRADES FROM : A+, A, A-, B+, B, B-, C+, C, C-, D+, D, F, I, W, WU  \")\n",
    "time.sleep(1)\n",
    "\n",
    "def get_input_grade(course):\n",
    "    grade=input(f\"Enter grade for {course} : \")\n",
    "    return grade\n",
    "        \n",
    "def set_grade(course_name,grade):\n",
    "    finalDict[course_name] = grade\n",
    "\n",
    "#This will handle the case if anything other than the specified grades is enter by the user ,it will keep asking him to write the correct value show above\n",
    "for course in subjects:\n",
    "    while True:\n",
    "        \n",
    "        grade = get_input_grade(course)\n",
    "\n",
    "        if grade in validGrades:\n",
    "            intValue = gradesDict.get(grade)\n",
    "            finalDict[course]=intValue\n",
    "            break\n",
    "        else:\n",
    "            print(\"Please enter valid grade\")\n",
    "\n",
    "# print(finalDict)\n",
    "#Converting from dictionary to Dataframe\n",
    "df = pd.DataFrame.from_dict([finalDict])\n",
    "# print(df)\n",
    "df=df.iloc[:1]\n",
    "result=Lin_reg.predict(df)\n",
    "\n",
    "#CONDITION IF THE GPA IS GREATER THAN 4 OR LESS THEN 0\n",
    "if result[0] > 4 :\n",
    "    result[0] = 4\n",
    "elif result[0] < 0:\n",
    "    result[0] = 0\n",
    "else:\n",
    "    result\n",
    "time.sleep(1)\n",
    "print(\"By Linear Regression\")\n",
    "print(f\"Final GPA of First Year Students : {round(result[0],3)}\")\n",
    "time.sleep(1)\n",
    "result1=Knn_reg.predict(df)\n",
    "\n",
    "#CONDITION IF THE GPA IS GREATER THAN 4 OR LESS THEN 0\n",
    "if result1[0] > 4 :\n",
    "    result1[0] = 4\n",
    "elif result1[0] < 0:\n",
    "    result1[0] = 0\n",
    "else:\n",
    "    result1\n",
    "print(\"By KNN\")\n",
    "print(f\"Final GPA of First Year Students : {round(result1[0],3)}\")\n"
   ]
  },
  {
   "cell_type": "markdown",
   "id": "66ed8393",
   "metadata": {},
   "source": [
    " **USING LINEAR REGRESSION FOR MODEL 2**"
   ]
  },
  {
   "cell_type": "code",
   "execution_count": 60,
   "id": "5ed2632b",
   "metadata": {},
   "outputs": [],
   "source": [
    "x2 = Data_encoded.iloc[:, 0:22]\n",
    "y2 = Data['CGPA']\n",
    "x2_train, x2_test, y2_train, y2_test = train_test_split(x2, y2, test_size=0.2, random_state=0)"
   ]
  },
  {
   "cell_type": "code",
   "execution_count": 61,
   "id": "17101e82",
   "metadata": {},
   "outputs": [
    {
     "name": "stdout",
     "output_type": "stream",
     "text": [
      "BY LINEAR REGRESSION FOR FIRST & SECOND YEAR COURSES 0.913614016217437\n",
      "Training set score: 0.91\n",
      "\n",
      "Testing set score: 0.91\n"
     ]
    }
   ],
   "source": [
    "Lin_reg2 = LinearRegression()\n",
    "Y_pred3 = Lin_reg2.fit(x2_train, y2_train).predict(x2_test)\n",
    "print(\"BY LINEAR REGRESSION FOR FIRST & SECOND YEAR COURSES\",Lin_reg2.score(x2_test, y2_test))\n",
    "print('Training set score: {:.2f}\\n'.format(Lin_reg2.score(x2_train, y2_train)))\n",
    "print('Testing set score: {:.2f}'.format(Lin_reg2.score(x2_test, y2_test)))"
   ]
  },
  {
   "cell_type": "markdown",
   "id": "46c7633b",
   "metadata": {},
   "source": [
    "**USING RANDOM FOREST REGRESSION FOR MODEL 2**"
   ]
  },
  {
   "cell_type": "code",
   "execution_count": 63,
   "id": "265e0e9d",
   "metadata": {},
   "outputs": [
    {
     "name": "stdout",
     "output_type": "stream",
     "text": [
      "Training set score: 0.98\n",
      "Testing set score: 0.92\n",
      "0.9241601828619948\n"
     ]
    }
   ],
   "source": [
    "rfr = RandomForestRegressor(n_estimators = 100, random_state = 0)\n",
    "Y_pred4 = rfr.fit(x2_train, y2_train).predict(x2_test)\n",
    "# p = rfr.predict(x_test)\n",
    "print('Training set score: {:.2f}'.format(rfr.score(x2_train, y2_train)))\n",
    "print('Testing set score: {:.2f}'.format(rfr.score(x2_test, y2_test)))\n",
    "print(rfr.score(x2_test, y2_test))"
   ]
  },
  {
   "cell_type": "markdown",
   "id": "97f33ad6",
   "metadata": {},
   "source": [
    "**INTERFACE FOR MODEL 2**"
   ]
  },
  {
   "cell_type": "code",
   "execution_count": 64,
   "id": "a1d1021f",
   "metadata": {},
   "outputs": [
    {
     "name": "stdout",
     "output_type": "stream",
     "text": [
      "***ENTER GRADES FOR 1st & 2nd YEAR***\n",
      "***CHOOSE GRADES FROM : A+, A, A-, B+, B, B-, C+, C, C-, D+, D, F, I, W, WU  \n",
      "Enter grade for PH-121 : A\n",
      "Enter grade for HS-101 : A\n",
      "Enter grade for CY-105 : A\n",
      "Enter grade for HS-105/12 : A\n",
      "Enter grade for MT-111 : A\n",
      "Enter grade for CS-105 : A\n",
      "Enter grade for CS-106 : A\n",
      "Enter grade for EL-102 : A\n",
      "Enter grade for EE-119 : A\n",
      "Enter grade for ME-107 : A\n",
      "Enter grade for CS-107 : A\n",
      "Enter grade for HS-205/20 : A\n",
      "Enter grade for MT-222 : A\n",
      "Enter grade for EE-222 : A\n",
      "Enter grade for MT-224 : A\n",
      "Enter grade for CS-210 : A\n",
      "Enter grade for CS-211 : A\n",
      "Enter grade for CS-203 : A\n",
      "Enter grade for CS-214 : A\n",
      "Enter grade for EE-217 : A\n",
      "Enter grade for CS-212 : A\n",
      "Enter grade for CS-215 : A\n",
      "By Linear Regression\n",
      "Final GPA of 1st and 2nd Year Students : 3.907\n",
      "By Random Forest\n",
      "Final GPA of 1st and 2nd Year Students : 3.876\n"
     ]
    }
   ],
   "source": [
    "finalDict={}\n",
    "validGrades=['A+', 'A',' A-','B+', 'B', 'B-', 'C+', 'C', 'C-', 'D+', 'D', 'F', 'I','W', 'WU']\n",
    "subjects=['PH-121','HS-101','CY-105','HS-105/12','MT-111','CS-105','CS-106','EL-102','EE-119','ME-107','CS-107','HS-205/20','MT-222','EE-222','MT-224','CS-210','CS-211','CS-203','CS-214','EE-217','CS-212','CS-215']\n",
    "gradesDict = {\"A+\":15,\"A\":14,\"A-\":13,\"B+\":12,\"B\":11,\"B-\":10,\"C+\":8,\"C\":8,\"C-\":7,\"D+\":6,\"D\":5,\"F\":4,\"I\":3,\"W\":2,\"WU\":1}\n",
    "print(\"***ENTER GRADES FOR 1st & 2nd YEAR***\")\n",
    "time.sleep(1)\n",
    "print(\"***CHOOSE GRADES FROM : A+, A, A-, B+, B, B-, C+, C, C-, D+, D, F, I, W, WU  \")\n",
    "time.sleep(1)\n",
    "\n",
    "def get_input_grade(course):\n",
    "    grade=input(f\"Enter grade for {course} : \")\n",
    "    return grade\n",
    "        \n",
    "def set_grade(course_name,grade):\n",
    "    finalDict[course_name] = grade\n",
    "    \n",
    "for course in subjects:\n",
    "    while True:\n",
    "        \n",
    "        grade = get_input_grade(course)\n",
    "\n",
    "        if grade in validGrades:\n",
    "            intValue = gradesDict.get(grade)\n",
    "            finalDict[course]=intValue\n",
    "            break\n",
    "        else:\n",
    "            print(\"Please enter valid grade\")\n",
    "    \n",
    "# print(finalDict)\n",
    "df = pd.DataFrame.from_dict([finalDict])\n",
    "# print(df)\n",
    "df=df.iloc[:1]\n",
    "result2=Lin_reg2.predict(df)\n",
    "if result2[0] > 4 :\n",
    "    result2[0] = 4\n",
    "elif result2[0] < 0:\n",
    "    result2[0] = 0\n",
    "else:\n",
    "    result2\n",
    "time.sleep(1)\n",
    "print(\"By Linear Regression\")\n",
    "print(f\"Final GPA of 1st and 2nd Year Students : {round(result2[0],3)}\")\n",
    "time.sleep(1)\n",
    "result3=rfr.predict(df)\n",
    "if result3[0] > 4 :\n",
    "    result3[0] = 4\n",
    "elif result3[0] < 0:\n",
    "    result3[0] = 0\n",
    "else:\n",
    "    result3\n",
    "print(\"By Random Forest\")\n",
    "print(f\"Final GPA of 1st and 2nd Year Students : {round(result3[0],3)}\")\n"
   ]
  },
  {
   "cell_type": "markdown",
   "id": "18d053a6",
   "metadata": {},
   "source": [
    "**USING SUPPORT VECTOR REGRESSOR FOR MODEL**"
   ]
  },
  {
   "cell_type": "code",
   "execution_count": 65,
   "id": "4c09d874",
   "metadata": {},
   "outputs": [],
   "source": [
    "x3 = Data_encoded.iloc[:, 0:33]\n",
    "y3 = Data['CGPA']\n",
    "x3_train, x3_test, y3_train, y3_test = train_test_split(x3, y3, test_size=0.2, random_state=100)"
   ]
  },
  {
   "cell_type": "code",
   "execution_count": 66,
   "id": "371bb5e1",
   "metadata": {},
   "outputs": [
    {
     "name": "stdout",
     "output_type": "stream",
     "text": [
      "0.9037506494385718\n",
      "Training set score: 98.31%\n",
      "Test set score: 0.90\n"
     ]
    }
   ],
   "source": [
    "Svr=SVR(kernel='poly',degree=3)\n",
    "Svr.fit(x3_train,y3_train)\n",
    "print(Svr.score(x3_test, y3_test))\n",
    "print(\"Training set score: {:.2f}%\".format(round(Svr.score(x3_train, y3_train)*100,2)))\n",
    "print(\"Test set score: {:.2f}\".format(Svr.score(x3_test, y3_test)))"
   ]
  },
  {
   "cell_type": "markdown",
   "id": "28f5611b",
   "metadata": {},
   "source": [
    "**USING DECISION TREE REGRESSOR FOR MODEL 3**"
   ]
  },
  {
   "cell_type": "code",
   "execution_count": 67,
   "id": "7865bc21",
   "metadata": {},
   "outputs": [
    {
     "name": "stdout",
     "output_type": "stream",
     "text": [
      "0.8150438523395942\n",
      "Training set score: 100.00%\n",
      "Test set score: 0.82\n"
     ]
    }
   ],
   "source": [
    "# create a regressor object\n",
    "Dtr_Reg = DecisionTreeRegressor(random_state = 0) \n",
    "  \n",
    "# fit the regressor with X and Y data\n",
    "Dtr_Reg.fit(x3_train, y3_train)\n",
    "print(Dtr_Reg.score(x3_test, y3_test))\n",
    "print(\"Training set score: {:.2f}%\".format(round(Dtr_Reg.score(x3_train, y3_train)*100,2)))\n",
    "print(\"Test set score: {:.2f}\".format(Dtr_Reg.score(x3_test, y3_test)))"
   ]
  },
  {
   "cell_type": "markdown",
   "id": "f8c33d93",
   "metadata": {},
   "source": [
    "**INTERFACE FOR MODEL 3**"
   ]
  },
  {
   "cell_type": "code",
   "execution_count": 68,
   "id": "9213c83a",
   "metadata": {},
   "outputs": [
    {
     "name": "stdout",
     "output_type": "stream",
     "text": [
      "***ENTER GRADES FOR  1st,2nd & 3rd YEAR***\n",
      "***CHOOSE GRADES FROM : A+, A, A-, B+, B, B-, C+, C, C-, D+, D, F, I, W, WU  \n",
      "Enter grade for PH-121 : A\n",
      "Enter grade for HS-101 : A\n",
      "Enter grade for CY-105 : A\n",
      "Enter grade for HS-105/12 : A\n",
      "Enter grade for MT-111 : A\n",
      "Enter grade for CS-105 : A\n",
      "Enter grade for CS-106 : A\n",
      "Enter grade for EL-102 : A\n",
      "Enter grade for EE-119 : A\n",
      "Enter grade for ME-107 : A\n",
      "Enter grade for CS-107 : A\n",
      "Enter grade for HS-205/20 : A\n",
      "Enter grade for MT-222 : A\n",
      "Enter grade for EE-222 : A\n",
      "Enter grade for MT-224 : A\n",
      "Enter grade for CS-210 : A\n",
      "Enter grade for CS-211 : A\n",
      "Enter grade for CS-203 : A\n",
      "Enter grade for CS-214 : A\n",
      "Enter grade for EE-217 : A\n",
      "Enter grade for CS-212 : A\n",
      "Enter grade for CS-215 : A\n",
      "Enter grade for MT-331 : A\n",
      "Enter grade for EF-303 : A\n",
      "Enter grade for HS-304 : A\n",
      "Enter grade for CS-301 : A\n",
      "Enter grade for CS-302 : A\n",
      "Enter grade for TC-383 : A\n",
      "Enter grade for EL-332 : A\n",
      "Enter grade for CS-318 : A\n",
      "Enter grade for CS-306 : A\n",
      "Enter grade for CS-312 : A\n",
      "Enter grade for CS-317 : A\n",
      "By Support Vector Regressor\n",
      "Final GPA of 1st,2nd & 3rd Year Students : 3.854\n",
      "By Decision Tree Regressor\n",
      "Final GPA of 1st,2nd & 3rd Students : 3.919\n"
     ]
    }
   ],
   "source": [
    "finalDict={}\n",
    "validGrades=['A+', 'A',' A-','B+', 'B', 'B-', 'C+', 'C', 'C-', 'D+', 'D', 'F', 'I','W', 'WU']\n",
    "subjects=['PH-121','HS-101','CY-105','HS-105/12','MT-111','CS-105','CS-106','EL-102','EE-119','ME-107','CS-107','HS-205/20','MT-222','EE-222','MT-224','CS-210','CS-211','CS-203','CS-214','EE-217','CS-212','CS-215','MT-331','EF-303','HS-304','CS-301','CS-302','TC-383','EL-332','CS-318','CS-306','CS-312','CS-317']\n",
    "gradesDict = {\"A+\":15,\"A\":14,\"A-\":13,\"B+\":12,\"B\":11,\"B-\":10,\"C+\":8,\"C\":8,\"C-\":7,\"D+\":6,\"D\":5,\"F\":4,\"I\":3,\"W\":2,\"WU\":1}\n",
    "print(\"***ENTER GRADES FOR  1st,2nd & 3rd YEAR***\")\n",
    "time.sleep(1)\n",
    "print(\"***CHOOSE GRADES FROM : A+, A, A-, B+, B, B-, C+, C, C-, D+, D, F, I, W, WU  \")\n",
    "time.sleep(1)\n",
    "\n",
    "def get_input_grade(course):\n",
    "    grade=input(f\"Enter grade for {course} : \")\n",
    "    return grade\n",
    "        \n",
    "def set_grade(course_name,grade):\n",
    "    finalDict[course_name] = grade\n",
    "    \n",
    "for course in subjects:\n",
    "    while True:\n",
    "        \n",
    "        grade = get_input_grade(course)\n",
    "\n",
    "        if grade in validGrades:\n",
    "            intValue = gradesDict.get(grade)\n",
    "            finalDict[course]=intValue\n",
    "            break\n",
    "        else:\n",
    "            print(\"Please enter valid grade\")\n",
    "\n",
    "    \n",
    "# print(finalDict)\n",
    "df = pd.DataFrame.from_dict([finalDict])\n",
    "# print(df)\n",
    "df=df.iloc[:1]\n",
    "result4=Svr.predict(df)\n",
    "if result4[0] > 4 :\n",
    "    result4[0] = 4\n",
    "elif result4[0] < 0:\n",
    "    result4[0] = 0\n",
    "else:\n",
    "    result4\n",
    "time.sleep(1)\n",
    "print(\"By Support Vector Regressor\")\n",
    "print(f\"Final GPA of 1st,2nd & 3rd Year Students : {round(result4[0],3)}\")\n",
    "time.sleep(1)\n",
    "result5=Dtr_Reg.predict(df)\n",
    "if result5[0] > 4 :\n",
    "    result5[0] = 4\n",
    "elif result5[0] < 0:\n",
    "    result5[0] = 0\n",
    "else:\n",
    "    result5\n",
    "print(\"By Decision Tree Regressor\")\n",
    "print(f\"Final GPA of 1st,2nd & 3rd Students : {round(result5[0],3)}\")"
   ]
  },
  {
   "cell_type": "markdown",
   "id": "d2a3f113",
   "metadata": {},
   "source": [
    "**PREDICTION VALUES FOR ALL OUR MODELS**"
   ]
  },
  {
   "cell_type": "code",
   "execution_count": 69,
   "id": "c8113333",
   "metadata": {},
   "outputs": [],
   "source": [
    "prediction1 = Lin_reg.predict(x1_test)\n",
    "prediction2 = Knn_reg.predict(x1_test)\n",
    "prediction3 = Lin_reg2.predict(x2_test)\n",
    "prediction4 = rfr.predict(x2_test)\n",
    "prediction5 = Svr.predict(x3_test)\n",
    "prediction6 = Dtr_Reg.predict(x3_test)                  \n"
   ]
  },
  {
   "cell_type": "markdown",
   "id": "15fd9866",
   "metadata": {},
   "source": [
    "**RMSE, MSE AND MAE FOR MODEL 1 BY LINEAR REGRESSION**"
   ]
  },
  {
   "cell_type": "code",
   "execution_count": 70,
   "id": "f2bb6fbc",
   "metadata": {},
   "outputs": [
    {
     "name": "stdout",
     "output_type": "stream",
     "text": [
      " Mean Sqaured Error: 0.063\n",
      " Root Mean Sqaured Error: 0.251\n",
      " Mean Absolute Error: 0.2\n"
     ]
    }
   ],
   "source": [
    "# 1- mean_squared_error\n",
    "MSE1 = mean_squared_error(y1_test, prediction1)\n",
    "print(\" Mean Sqaured Error:\", round(MSE1, 3))\n",
    "\n",
    "# 2- root mean_squared_error\n",
    "RMSE1 = mean_squared_error(y1_test, prediction1, squared=False)\n",
    "print(\" Root Mean Sqaured Error:\", round(RMSE1, 3))\n",
    "\n",
    "# 3- mean_absolute_error\n",
    "MAE1 = mean_absolute_error(y1_test, prediction1)\n",
    "print(\" Mean Absolute Error:\", round(MAE1, 3))"
   ]
  },
  {
   "cell_type": "markdown",
   "id": "a5da1feb",
   "metadata": {},
   "source": [
    "**RMSE, MSE AND MAE FOR MODEL 1 BY KNN**"
   ]
  },
  {
   "cell_type": "code",
   "execution_count": 71,
   "id": "1df42fb8",
   "metadata": {},
   "outputs": [
    {
     "name": "stdout",
     "output_type": "stream",
     "text": [
      " Mean Sqaured Error: 0.055\n",
      "Root Mean Sqaured Error: 0.235\n",
      " Mean Absolute Error: 0.192\n"
     ]
    }
   ],
   "source": [
    "# 1- mean_squared_error\n",
    "MSE2 = mean_squared_error(y1_test, prediction2)\n",
    "print(\" Mean Sqaured Error:\", round(MSE2, 3))\n",
    "\n",
    "# 2- root mean_squared_error\n",
    "RMSE2 = mean_squared_error(y1_test, prediction2, squared=False)\n",
    "print(\"Root Mean Sqaured Error:\", round(RMSE2, 3))\n",
    "\n",
    "# 3- mean_absolute_error\n",
    "MAE2 = mean_absolute_error(y1_test, prediction2)\n",
    "print(\" Mean Absolute Error:\", round(MAE2, 3))"
   ]
  },
  {
   "cell_type": "markdown",
   "id": "0e73928a",
   "metadata": {},
   "source": [
    "**RMSE, MSE AND MAE FOR MODEL 2 BY LINEAR REGRESSION**"
   ]
  },
  {
   "cell_type": "code",
   "execution_count": 72,
   "id": "049beb30",
   "metadata": {},
   "outputs": [
    {
     "name": "stdout",
     "output_type": "stream",
     "text": [
      "Mean Sqaured Error: 0.03\n",
      "Root Mean Sqaured Error: 0.173\n",
      "Mean Absolute Error: 0.137\n"
     ]
    }
   ],
   "source": [
    "# 1- mean_squared_error\n",
    "MSE3 = mean_squared_error(y2_test, prediction3)\n",
    "print(\"Mean Sqaured Error:\", round(MSE3, 3))\n",
    "\n",
    "# 2- root mean_squared_error\n",
    "RMSE3 = mean_squared_error(y2_test, prediction3, squared=False)\n",
    "print(\"Root Mean Sqaured Error:\", round(RMSE3, 3))\n",
    "\n",
    "# 3- mean_absolute_error\n",
    "MAE3 = mean_absolute_error(y2_test, prediction3)\n",
    "print(\"Mean Absolute Error:\", round(MAE3, 3))"
   ]
  },
  {
   "cell_type": "markdown",
   "id": "94ff34ae",
   "metadata": {},
   "source": [
    "**RMSE, MSE AND MAE FOR MODEL 2 BY RANDOM FOREST REGRESSION**"
   ]
  },
  {
   "cell_type": "code",
   "execution_count": 73,
   "id": "d2ad1c00",
   "metadata": {},
   "outputs": [
    {
     "name": "stdout",
     "output_type": "stream",
     "text": [
      " Mean Sqaured Error: 0.026\n",
      " Root Mean Sqaured Error: 0.162\n",
      " Mean Absolute Error: 0.123\n"
     ]
    }
   ],
   "source": [
    "# 1- mean_squared_error\n",
    "MSE4 = mean_squared_error(y2_test, prediction4)\n",
    "print(\" Mean Sqaured Error:\", round(MSE4, 3))\n",
    "\n",
    "# 2- root mean_squared_error\n",
    "RMSE4 = mean_squared_error(y2_test, prediction4, squared=False)\n",
    "print(\" Root Mean Sqaured Error:\", round(RMSE4, 3))\n",
    "\n",
    "# 3- mean_absolute_error\n",
    "MAE4 = mean_absolute_error(y2_test, prediction4)\n",
    "print(\" Mean Absolute Error:\", round(MAE4, 3))"
   ]
  },
  {
   "cell_type": "markdown",
   "id": "4adcde75",
   "metadata": {},
   "source": [
    "**RMSE, MSE AND MAE FOR MODEL 3 BY SUPPORT VECTOR REGRESSION**"
   ]
  },
  {
   "cell_type": "code",
   "execution_count": 74,
   "id": "f6b4dfdb",
   "metadata": {},
   "outputs": [
    {
     "name": "stdout",
     "output_type": "stream",
     "text": [
      " Mean Sqaured Error: 0.034\n",
      " Root Mean Sqaured Error: 0.185\n",
      " Mean Absolute Error: 0.121\n"
     ]
    }
   ],
   "source": [
    "# 1- mean_squared_error\n",
    "MSE5 = mean_squared_error(y3_test, prediction5)\n",
    "print(\" Mean Sqaured Error:\", round(MSE5, 3))\n",
    "\n",
    "# 2- root mean_squared_error\n",
    "RMSE5 = mean_squared_error(y3_test, prediction5, squared=False)\n",
    "print(\" Root Mean Sqaured Error:\", round(RMSE5, 3))\n",
    "\n",
    "# 3- mean_absolute_error\n",
    "MAE5 = mean_absolute_error(y3_test, prediction5)\n",
    "print(\" Mean Absolute Error:\", round(MAE5, 3))"
   ]
  },
  {
   "cell_type": "markdown",
   "id": "55c13f76",
   "metadata": {},
   "source": [
    "**RMSE, MSE AND MAE FOR MODEL 3 BY DECISION TREE REGRESSION**"
   ]
  },
  {
   "cell_type": "code",
   "execution_count": 75,
   "id": "911f4917",
   "metadata": {},
   "outputs": [
    {
     "name": "stdout",
     "output_type": "stream",
     "text": [
      " Mean Sqaured Error: 0.034\n",
      "Root Mean Sqaured Error: 0.185\n",
      "Mean Absolute Error: 0.177\n"
     ]
    }
   ],
   "source": [
    "# 1- mean_squared_error\n",
    "MSE6 = mean_squared_error(y3_test, prediction6)\n",
    "print(\" Mean Sqaured Error:\", round(MSE5, 3))\n",
    "\n",
    "# 2- root mean_squared_error\n",
    "RMSE6 = mean_squared_error(y3_test, prediction6, squared=False)\n",
    "print(\"Root Mean Sqaured Error:\", round(RMSE5, 3))\n",
    "\n",
    "# 3- mean_absolute_error\n",
    "MAE6 = mean_absolute_error(y3_test, prediction6)\n",
    "print(\"Mean Absolute Error:\", round(MAE6, 3))"
   ]
  },
  {
   "cell_type": "markdown",
   "id": "72e880a0",
   "metadata": {},
   "source": [
    "# Comparison for error values"
   ]
  },
  {
   "cell_type": "code",
   "execution_count": 76,
   "id": "a6b3b253",
   "metadata": {},
   "outputs": [
    {
     "data": {
      "image/png": "[encoded data removed]",
      "text/plain": [
       "<Figure size 432x288 with 1 Axes>"
      ]
     },
     "metadata": {
      "needs_background": "light"
     },
     "output_type": "display_data"
    }
   ],
   "source": [
    "point = np.array(['MSE', 'RMSE','MAE'])\n",
    "point1 = np.array([MSE1, RMSE1, MAE1])\n",
    "point2 = np.array([MSE2, RMSE2, MAE2])\n",
    "point3 = np.array([MSE3, RMSE3, MAE3])\n",
    "point4 = np.array([MSE4, RMSE4, MAE4])\n",
    "point5 = np.array([MSE5, RMSE5, MAE5])\n",
    "point6 = np.array([MSE6, RMSE6, MAE6])\n",
    "plt.plot(point, point1,  label=\"lin reg - model 1\", marker='o')\n",
    "plt.plot(point, point2,  label=\"Knn - model 1\", marker='o')\n",
    "plt.plot(point, point3,  label=\"lin reg - model 2\", linestyle=\"--\", marker='o')\n",
    "plt.plot(point, point4,  label=\"rfr - model 2\", marker='o', linestyle=\"--\")\n",
    "plt.plot(point, point5,  label=\"Svr - model 3\", linestyle=\"-.\", marker='o',color='black')\n",
    "plt.plot(point, point6,  label=\"Dtr - model 3\", linestyle=\"-.\", marker='o',color='brown')\n",
    "\n",
    "\n",
    "plt.legend()\n",
    "plt.show()"
   ]
  }
 ],
 "metadata": {
  "kernelspec": {
   "display_name": "Python 3 (ipykernel)",
   "language": "python",
   "name": "python3"
  },
  "language_info": {
   "codemirror_mode": {
    "name": "ipython",
    "version": 3
   },
   "file_extension": ".py",
   "mimetype": "text/x-python",
   "name": "python",
   "nbconvert_exporter": "python",
   "pygments_lexer": "ipython3",
   "version": "3.8.7"
  }
 },
 "nbformat": 4,
 "nbformat_minor": 5
}
